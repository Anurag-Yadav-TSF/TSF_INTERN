{
  "nbformat": 4,
  "nbformat_minor": 0,
  "metadata": {
    "colab": {
      "provenance": [],
      "authorship_tag": "ABX9TyMdR+Zu10WEit2R1ibANtDN",
      "include_colab_link": true
    },
    "kernelspec": {
      "name": "python3",
      "display_name": "Python 3"
    },
    "language_info": {
      "name": "python"
    }
  },
  "cells": [
    {
      "cell_type": "markdown",
      "metadata": {
        "id": "view-in-github",
        "colab_type": "text"
      },
      "source": [
        "<a href=\"https://colab.research.google.com/github/Anurag-Yadav-TSF/TSF_INTERN/blob/main/Anurag_Yadav_TSF_INTERN_TASK_1.ipynb\" target=\"_parent\"><img src=\"https://colab.research.google.com/assets/colab-badge.svg\" alt=\"Open In Colab\"/></a>"
      ]
    },
    {
      "cell_type": "markdown",
      "source": [
        "# **TASK 1 :- Prediction using Supervised ML**\n",
        "\n",
        "# **Author :- Anurag Yadav**\n",
        "\n",
        "# **GRIP @ The Sparks Foundation**\n",
        "\n",
        "#GRIPSEPTEMBER22\n",
        "\n",
        "#GRIPSEPT22\n",
        "\n",
        "#datascience\n",
        "\n",
        "# **The objective of the task is to predict the percentage score of the student if he studies for 9.25 hours per day.** "
      ],
      "metadata": {
        "id": "HKNeuO79HY66"
      }
    },
    {
      "cell_type": "markdown",
      "source": [
        "# **1. Importing necessary libraries**"
      ],
      "metadata": {
        "id": "B3ZPepUcIF5a"
      }
    },
    {
      "cell_type": "code",
      "execution_count": 13,
      "metadata": {
        "id": "dNsZOMRKHHIj"
      },
      "outputs": [],
      "source": [
        "import pandas as pd\n",
        "import numpy as np\n",
        "import matplotlib.pyplot as plt\n",
        "import seaborn as sns\n",
        "\n",
        "from sklearn.model_selection import train_test_split\n",
        "from sklearn import linear_model\n",
        "from sklearn import metrics\n",
        "from sklearn.metrics import r2_score"
      ]
    },
    {
      "cell_type": "code",
      "source": [
        "## Reading the Data into a DataFrame\n",
        "URL = \"http://bit.ly/w-data\"\n",
        "df = pd.read_csv(URL)\n",
        "df.head(10)"
      ],
      "metadata": {
        "colab": {
          "base_uri": "https://localhost:8080/",
          "height": 363
        },
        "id": "qIJKKXCLImPM",
        "outputId": "7268fea0-f067-438f-aceb-b1fa4d22e986"
      },
      "execution_count": 14,
      "outputs": [
        {
          "output_type": "execute_result",
          "data": {
            "text/plain": [
              "   Hours  Scores\n",
              "0    2.5      21\n",
              "1    5.1      47\n",
              "2    3.2      27\n",
              "3    8.5      75\n",
              "4    3.5      30\n",
              "5    1.5      20\n",
              "6    9.2      88\n",
              "7    5.5      60\n",
              "8    8.3      81\n",
              "9    2.7      25"
            ],
            "text/html": [
              "\n",
              "  <div id=\"df-a2444127-e428-4fad-a997-5fc23c719906\">\n",
              "    <div class=\"colab-df-container\">\n",
              "      <div>\n",
              "<style scoped>\n",
              "    .dataframe tbody tr th:only-of-type {\n",
              "        vertical-align: middle;\n",
              "    }\n",
              "\n",
              "    .dataframe tbody tr th {\n",
              "        vertical-align: top;\n",
              "    }\n",
              "\n",
              "    .dataframe thead th {\n",
              "        text-align: right;\n",
              "    }\n",
              "</style>\n",
              "<table border=\"1\" class=\"dataframe\">\n",
              "  <thead>\n",
              "    <tr style=\"text-align: right;\">\n",
              "      <th></th>\n",
              "      <th>Hours</th>\n",
              "      <th>Scores</th>\n",
              "    </tr>\n",
              "  </thead>\n",
              "  <tbody>\n",
              "    <tr>\n",
              "      <th>0</th>\n",
              "      <td>2.5</td>\n",
              "      <td>21</td>\n",
              "    </tr>\n",
              "    <tr>\n",
              "      <th>1</th>\n",
              "      <td>5.1</td>\n",
              "      <td>47</td>\n",
              "    </tr>\n",
              "    <tr>\n",
              "      <th>2</th>\n",
              "      <td>3.2</td>\n",
              "      <td>27</td>\n",
              "    </tr>\n",
              "    <tr>\n",
              "      <th>3</th>\n",
              "      <td>8.5</td>\n",
              "      <td>75</td>\n",
              "    </tr>\n",
              "    <tr>\n",
              "      <th>4</th>\n",
              "      <td>3.5</td>\n",
              "      <td>30</td>\n",
              "    </tr>\n",
              "    <tr>\n",
              "      <th>5</th>\n",
              "      <td>1.5</td>\n",
              "      <td>20</td>\n",
              "    </tr>\n",
              "    <tr>\n",
              "      <th>6</th>\n",
              "      <td>9.2</td>\n",
              "      <td>88</td>\n",
              "    </tr>\n",
              "    <tr>\n",
              "      <th>7</th>\n",
              "      <td>5.5</td>\n",
              "      <td>60</td>\n",
              "    </tr>\n",
              "    <tr>\n",
              "      <th>8</th>\n",
              "      <td>8.3</td>\n",
              "      <td>81</td>\n",
              "    </tr>\n",
              "    <tr>\n",
              "      <th>9</th>\n",
              "      <td>2.7</td>\n",
              "      <td>25</td>\n",
              "    </tr>\n",
              "  </tbody>\n",
              "</table>\n",
              "</div>\n",
              "      <button class=\"colab-df-convert\" onclick=\"convertToInteractive('df-a2444127-e428-4fad-a997-5fc23c719906')\"\n",
              "              title=\"Convert this dataframe to an interactive table.\"\n",
              "              style=\"display:none;\">\n",
              "        \n",
              "  <svg xmlns=\"http://www.w3.org/2000/svg\" height=\"24px\"viewBox=\"0 0 24 24\"\n",
              "       width=\"24px\">\n",
              "    <path d=\"M0 0h24v24H0V0z\" fill=\"none\"/>\n",
              "    <path d=\"M18.56 5.44l.94 2.06.94-2.06 2.06-.94-2.06-.94-.94-2.06-.94 2.06-2.06.94zm-11 1L8.5 8.5l.94-2.06 2.06-.94-2.06-.94L8.5 2.5l-.94 2.06-2.06.94zm10 10l.94 2.06.94-2.06 2.06-.94-2.06-.94-.94-2.06-.94 2.06-2.06.94z\"/><path d=\"M17.41 7.96l-1.37-1.37c-.4-.4-.92-.59-1.43-.59-.52 0-1.04.2-1.43.59L10.3 9.45l-7.72 7.72c-.78.78-.78 2.05 0 2.83L4 21.41c.39.39.9.59 1.41.59.51 0 1.02-.2 1.41-.59l7.78-7.78 2.81-2.81c.8-.78.8-2.07 0-2.86zM5.41 20L4 18.59l7.72-7.72 1.47 1.35L5.41 20z\"/>\n",
              "  </svg>\n",
              "      </button>\n",
              "      \n",
              "  <style>\n",
              "    .colab-df-container {\n",
              "      display:flex;\n",
              "      flex-wrap:wrap;\n",
              "      gap: 12px;\n",
              "    }\n",
              "\n",
              "    .colab-df-convert {\n",
              "      background-color: #E8F0FE;\n",
              "      border: none;\n",
              "      border-radius: 50%;\n",
              "      cursor: pointer;\n",
              "      display: none;\n",
              "      fill: #1967D2;\n",
              "      height: 32px;\n",
              "      padding: 0 0 0 0;\n",
              "      width: 32px;\n",
              "    }\n",
              "\n",
              "    .colab-df-convert:hover {\n",
              "      background-color: #E2EBFA;\n",
              "      box-shadow: 0px 1px 2px rgba(60, 64, 67, 0.3), 0px 1px 3px 1px rgba(60, 64, 67, 0.15);\n",
              "      fill: #174EA6;\n",
              "    }\n",
              "\n",
              "    [theme=dark] .colab-df-convert {\n",
              "      background-color: #3B4455;\n",
              "      fill: #D2E3FC;\n",
              "    }\n",
              "\n",
              "    [theme=dark] .colab-df-convert:hover {\n",
              "      background-color: #434B5C;\n",
              "      box-shadow: 0px 1px 3px 1px rgba(0, 0, 0, 0.15);\n",
              "      filter: drop-shadow(0px 1px 2px rgba(0, 0, 0, 0.3));\n",
              "      fill: #FFFFFF;\n",
              "    }\n",
              "  </style>\n",
              "\n",
              "      <script>\n",
              "        const buttonEl =\n",
              "          document.querySelector('#df-a2444127-e428-4fad-a997-5fc23c719906 button.colab-df-convert');\n",
              "        buttonEl.style.display =\n",
              "          google.colab.kernel.accessAllowed ? 'block' : 'none';\n",
              "\n",
              "        async function convertToInteractive(key) {\n",
              "          const element = document.querySelector('#df-a2444127-e428-4fad-a997-5fc23c719906');\n",
              "          const dataTable =\n",
              "            await google.colab.kernel.invokeFunction('convertToInteractive',\n",
              "                                                     [key], {});\n",
              "          if (!dataTable) return;\n",
              "\n",
              "          const docLinkHtml = 'Like what you see? Visit the ' +\n",
              "            '<a target=\"_blank\" href=https://colab.research.google.com/notebooks/data_table.ipynb>data table notebook</a>'\n",
              "            + ' to learn more about interactive tables.';\n",
              "          element.innerHTML = '';\n",
              "          dataTable['output_type'] = 'display_data';\n",
              "          await google.colab.output.renderOutput(dataTable, element);\n",
              "          const docLink = document.createElement('div');\n",
              "          docLink.innerHTML = docLinkHtml;\n",
              "          element.appendChild(docLink);\n",
              "        }\n",
              "      </script>\n",
              "    </div>\n",
              "  </div>\n",
              "  "
            ]
          },
          "metadata": {},
          "execution_count": 14
        }
      ]
    },
    {
      "cell_type": "code",
      "source": [
        "## checking for null values  \n",
        "df.isnull().sum()"
      ],
      "metadata": {
        "colab": {
          "base_uri": "https://localhost:8080/"
        },
        "id": "1tVt1qHfIwQy",
        "outputId": "bf15f135-95df-4b69-9997-6afbee60227e"
      },
      "execution_count": 15,
      "outputs": [
        {
          "output_type": "execute_result",
          "data": {
            "text/plain": [
              "Hours     0\n",
              "Scores    0\n",
              "dtype: int64"
            ]
          },
          "metadata": {},
          "execution_count": 15
        }
      ]
    },
    {
      "cell_type": "code",
      "source": [
        "df.info()"
      ],
      "metadata": {
        "colab": {
          "base_uri": "https://localhost:8080/"
        },
        "id": "bSGIOvrcI7S9",
        "outputId": "0792c084-a6a8-4929-db1f-de3a9713618b"
      },
      "execution_count": 16,
      "outputs": [
        {
          "output_type": "stream",
          "name": "stdout",
          "text": [
            "<class 'pandas.core.frame.DataFrame'>\n",
            "RangeIndex: 25 entries, 0 to 24\n",
            "Data columns (total 2 columns):\n",
            " #   Column  Non-Null Count  Dtype  \n",
            "---  ------  --------------  -----  \n",
            " 0   Hours   25 non-null     float64\n",
            " 1   Scores  25 non-null     int64  \n",
            "dtypes: float64(1), int64(1)\n",
            "memory usage: 528.0 bytes\n"
          ]
        }
      ]
    },
    {
      "cell_type": "markdown",
      "source": [
        "**As we can see our dataset does not have any null values, we can proceed with the next step**"
      ],
      "metadata": {
        "id": "utaF5_yZJlN1"
      }
    },
    {
      "cell_type": "markdown",
      "source": [
        "# **2. Visualizing the Input Data**"
      ],
      "metadata": {
        "id": "miN8V2FdJ8HL"
      }
    },
    {
      "cell_type": "code",
      "source": [
        "df.plot(kind='scatter', x='Hours', y='Scores', color='black')\n",
        "plt.title('Plot of Hours vs. Scores')\n",
        "plt.show()"
      ],
      "metadata": {
        "colab": {
          "base_uri": "https://localhost:8080/",
          "height": 295
        },
        "id": "_eZF207MJOC9",
        "outputId": "0eb53b47-9dd0-43c5-86fe-1202d3acf92c"
      },
      "execution_count": 17,
      "outputs": [
        {
          "output_type": "display_data",
          "data": {
            "text/plain": [
              "<Figure size 432x288 with 1 Axes>"
            ],
            "image/png": "[encoded data removed]"
          },
          "metadata": {
            "needs_background": "light"
          }
        }
      ]
    },
    {
      "cell_type": "markdown",
      "source": [
        "From the graph we can safely assume a positive linear relation between the number of hours studied and percentage of score."
      ],
      "metadata": {
        "id": "U94hL5buKoL7"
      }
    },
    {
      "cell_type": "markdown",
      "source": [
        "# **3. Data Preprocessing**"
      ],
      "metadata": {
        "id": "eJN3VBPzKrf2"
      }
    },
    {
      "cell_type": "code",
      "source": [
        "X = df.iloc[:, :-1].values  \n",
        "y = df.iloc[:, 1].values"
      ],
      "metadata": {
        "id": "uBbhfTGNKn7A"
      },
      "execution_count": 18,
      "outputs": []
    },
    {
      "cell_type": "markdown",
      "source": [
        "This step involved splitting of data into \"attributes\" (inputs) and \"labels\" (outputs)."
      ],
      "metadata": {
        "id": "z3HEmYzAK3ZX"
      }
    },
    {
      "cell_type": "markdown",
      "source": [
        "# **4. Model Training**"
      ],
      "metadata": {
        "id": "ViOVQO5UK7Co"
      }
    },
    {
      "cell_type": "code",
      "source": [
        "## First Splitting the data into training and test data using train_test_split() from sklearn\n",
        "X_train, X_test, y_train, y_test = train_test_split(X, y, test_size=0.2, random_state=0)\n",
        "\n",
        "\n",
        "## training the model using linear_model.LinearRegression from sklearn\n",
        "regr = linear_model.LinearRegression()\n",
        "regr.fit(X_train, y_train)\n",
        "\n",
        "\n",
        "print ('Train set:', X_train.shape,  y_train.shape)\n",
        "print ('Test set:', X_test.shape,  y_test.shape)"
      ],
      "metadata": {
        "colab": {
          "base_uri": "https://localhost:8080/"
        },
        "id": "5GSXs2GDKicG",
        "outputId": "2284e0c5-0d38-455b-9045-9623c8663bd6"
      },
      "execution_count": 20,
      "outputs": [
        {
          "output_type": "stream",
          "name": "stdout",
          "text": [
            "Train set: (20, 1) (20,)\n",
            "Test set: (5, 1) (5,)\n"
          ]
        }
      ]
    },
    {
      "cell_type": "markdown",
      "source": [
        "Divided the data into training and testing sets and then trained the model."
      ],
      "metadata": {
        "id": "jSBir8f1Ls9s"
      }
    },
    {
      "cell_type": "markdown",
      "source": [
        "# **5. Plotting the Line of regression**"
      ],
      "metadata": {
        "id": "y4ekuuaWL0hg"
      }
    },
    {
      "cell_type": "code",
      "source": [
        "line = regr.coef_*X+regr.intercept_\n",
        "plt.scatter(X,y,color='black')\n",
        "plt.plot(X,line,'-r')\n",
        "plt.show()"
      ],
      "metadata": {
        "colab": {
          "base_uri": "https://localhost:8080/",
          "height": 265
        },
        "id": "aHHZ9Tg-LBPO",
        "outputId": "3ce4bcd7-9bdc-4711-e83f-42a32a41cd69"
      },
      "execution_count": 21,
      "outputs": [
        {
          "output_type": "display_data",
          "data": {
            "text/plain": [
              "<Figure size 432x288 with 1 Axes>"
            ],
            "image/png": "[encoded data removed]"
          },
          "metadata": {
            "needs_background": "light"
          }
        }
      ]
    },
    {
      "cell_type": "markdown",
      "source": [
        "the visualization of the best-fit line of regression."
      ],
      "metadata": {
        "id": "N0eTr8wtMCFy"
      }
    },
    {
      "cell_type": "markdown",
      "source": [
        "# **5. Making Predictions**"
      ],
      "metadata": {
        "id": "ND41XnbhMEsI"
      }
    },
    {
      "cell_type": "code",
      "source": [
        "pred_val = regr.predict(X_test)\n",
        "pred_val"
      ],
      "metadata": {
        "colab": {
          "base_uri": "https://localhost:8080/"
        },
        "id": "uf28ujX6L_Mm",
        "outputId": "c812e4fb-fad9-433e-e0e2-14907bd38930"
      },
      "execution_count": 22,
      "outputs": [
        {
          "output_type": "execute_result",
          "data": {
            "text/plain": [
              "array([16.88414476, 33.73226078, 75.357018  , 26.79480124, 60.49103328])"
            ]
          },
          "metadata": {},
          "execution_count": 22
        }
      ]
    },
    {
      "cell_type": "markdown",
      "source": [
        "The model predicted the scores for test data."
      ],
      "metadata": {
        "id": "GceQFed9MUYu"
      }
    },
    {
      "cell_type": "markdown",
      "source": [
        "# **6. Comparing Actual result to the Predicted Model result**"
      ],
      "metadata": {
        "id": "NLiE5MXFMY0G"
      }
    },
    {
      "cell_type": "code",
      "source": [
        "# Comparing Actual vs Predicted\n",
        "cmp = pd.DataFrame({'Actual-Scores':y_test, 'Predicted-Scores':pred_val})\n",
        "cmp"
      ],
      "metadata": {
        "colab": {
          "base_uri": "https://localhost:8080/",
          "height": 206
        },
        "id": "CuNvAzzfMShU",
        "outputId": "a8d75d92-9b4d-4794-bb25-9d503ade5619"
      },
      "execution_count": 23,
      "outputs": [
        {
          "output_type": "execute_result",
          "data": {
            "text/plain": [
              "   Actual-Scores  Predicted-Scores\n",
              "0             20         16.884145\n",
              "1             27         33.732261\n",
              "2             69         75.357018\n",
              "3             30         26.794801\n",
              "4             62         60.491033"
            ],
            "text/html": [
              "\n",
              "  <div id=\"df-629825ed-8ea6-4d81-9df7-f5cb14eda2c3\">\n",
              "    <div class=\"colab-df-container\">\n",
              "      <div>\n",
              "<style scoped>\n",
              "    .dataframe tbody tr th:only-of-type {\n",
              "        vertical-align: middle;\n",
              "    }\n",
              "\n",
              "    .dataframe tbody tr th {\n",
              "        vertical-align: top;\n",
              "    }\n",
              "\n",
              "    .dataframe thead th {\n",
              "        text-align: right;\n",
              "    }\n",
              "</style>\n",
              "<table border=\"1\" class=\"dataframe\">\n",
              "  <thead>\n",
              "    <tr style=\"text-align: right;\">\n",
              "      <th></th>\n",
              "      <th>Actual-Scores</th>\n",
              "      <th>Predicted-Scores</th>\n",
              "    </tr>\n",
              "  </thead>\n",
              "  <tbody>\n",
              "    <tr>\n",
              "      <th>0</th>\n",
              "      <td>20</td>\n",
              "      <td>16.884145</td>\n",
              "    </tr>\n",
              "    <tr>\n",
              "      <th>1</th>\n",
              "      <td>27</td>\n",
              "      <td>33.732261</td>\n",
              "    </tr>\n",
              "    <tr>\n",
              "      <th>2</th>\n",
              "      <td>69</td>\n",
              "      <td>75.357018</td>\n",
              "    </tr>\n",
              "    <tr>\n",
              "      <th>3</th>\n",
              "      <td>30</td>\n",
              "      <td>26.794801</td>\n",
              "    </tr>\n",
              "    <tr>\n",
              "      <th>4</th>\n",
              "      <td>62</td>\n",
              "      <td>60.491033</td>\n",
              "    </tr>\n",
              "  </tbody>\n",
              "</table>\n",
              "</div>\n",
              "      <button class=\"colab-df-convert\" onclick=\"convertToInteractive('df-629825ed-8ea6-4d81-9df7-f5cb14eda2c3')\"\n",
              "              title=\"Convert this dataframe to an interactive table.\"\n",
              "              style=\"display:none;\">\n",
              "        \n",
              "  <svg xmlns=\"http://www.w3.org/2000/svg\" height=\"24px\"viewBox=\"0 0 24 24\"\n",
              "       width=\"24px\">\n",
              "    <path d=\"M0 0h24v24H0V0z\" fill=\"none\"/>\n",
              "    <path d=\"M18.56 5.44l.94 2.06.94-2.06 2.06-.94-2.06-.94-.94-2.06-.94 2.06-2.06.94zm-11 1L8.5 8.5l.94-2.06 2.06-.94-2.06-.94L8.5 2.5l-.94 2.06-2.06.94zm10 10l.94 2.06.94-2.06 2.06-.94-2.06-.94-.94-2.06-.94 2.06-2.06.94z\"/><path d=\"M17.41 7.96l-1.37-1.37c-.4-.4-.92-.59-1.43-.59-.52 0-1.04.2-1.43.59L10.3 9.45l-7.72 7.72c-.78.78-.78 2.05 0 2.83L4 21.41c.39.39.9.59 1.41.59.51 0 1.02-.2 1.41-.59l7.78-7.78 2.81-2.81c.8-.78.8-2.07 0-2.86zM5.41 20L4 18.59l7.72-7.72 1.47 1.35L5.41 20z\"/>\n",
              "  </svg>\n",
              "      </button>\n",
              "      \n",
              "  <style>\n",
              "    .colab-df-container {\n",
              "      display:flex;\n",
              "      flex-wrap:wrap;\n",
              "      gap: 12px;\n",
              "    }\n",
              "\n",
              "    .colab-df-convert {\n",
              "      background-color: #E8F0FE;\n",
              "      border: none;\n",
              "      border-radius: 50%;\n",
              "      cursor: pointer;\n",
              "      display: none;\n",
              "      fill: #1967D2;\n",
              "      height: 32px;\n",
              "      padding: 0 0 0 0;\n",
              "      width: 32px;\n",
              "    }\n",
              "\n",
              "    .colab-df-convert:hover {\n",
              "      background-color: #E2EBFA;\n",
              "      box-shadow: 0px 1px 2px rgba(60, 64, 67, 0.3), 0px 1px 3px 1px rgba(60, 64, 67, 0.15);\n",
              "      fill: #174EA6;\n",
              "    }\n",
              "\n",
              "    [theme=dark] .colab-df-convert {\n",
              "      background-color: #3B4455;\n",
              "      fill: #D2E3FC;\n",
              "    }\n",
              "\n",
              "    [theme=dark] .colab-df-convert:hover {\n",
              "      background-color: #434B5C;\n",
              "      box-shadow: 0px 1px 3px 1px rgba(0, 0, 0, 0.15);\n",
              "      filter: drop-shadow(0px 1px 2px rgba(0, 0, 0, 0.3));\n",
              "      fill: #FFFFFF;\n",
              "    }\n",
              "  </style>\n",
              "\n",
              "      <script>\n",
              "        const buttonEl =\n",
              "          document.querySelector('#df-629825ed-8ea6-4d81-9df7-f5cb14eda2c3 button.colab-df-convert');\n",
              "        buttonEl.style.display =\n",
              "          google.colab.kernel.accessAllowed ? 'block' : 'none';\n",
              "\n",
              "        async function convertToInteractive(key) {\n",
              "          const element = document.querySelector('#df-629825ed-8ea6-4d81-9df7-f5cb14eda2c3');\n",
              "          const dataTable =\n",
              "            await google.colab.kernel.invokeFunction('convertToInteractive',\n",
              "                                                     [key], {});\n",
              "          if (!dataTable) return;\n",
              "\n",
              "          const docLinkHtml = 'Like what you see? Visit the ' +\n",
              "            '<a target=\"_blank\" href=https://colab.research.google.com/notebooks/data_table.ipynb>data table notebook</a>'\n",
              "            + ' to learn more about interactive tables.';\n",
              "          element.innerHTML = '';\n",
              "          dataTable['output_type'] = 'display_data';\n",
              "          await google.colab.output.renderOutput(dataTable, element);\n",
              "          const docLink = document.createElement('div');\n",
              "          docLink.innerHTML = docLinkHtml;\n",
              "          element.appendChild(docLink);\n",
              "        }\n",
              "      </script>\n",
              "    </div>\n",
              "  </div>\n",
              "  "
            ]
          },
          "metadata": {},
          "execution_count": 23
        }
      ]
    },
    {
      "cell_type": "code",
      "source": [
        "#Estimating training and test score\n",
        "print(\"Training Score:\",regr.score(X_train,y_train))\n",
        "print(\"Test Score:\",regr.score(X_test,y_test))"
      ],
      "metadata": {
        "colab": {
          "base_uri": "https://localhost:8080/"
        },
        "id": "ac12X02RMf7i",
        "outputId": "874954f8-140a-4759-ff8a-3d07b1ca29ac"
      },
      "execution_count": 24,
      "outputs": [
        {
          "output_type": "stream",
          "name": "stdout",
          "text": [
            "Training Score: 0.9515510725211552\n",
            "Test Score: 0.9454906892105354\n"
          ]
        }
      ]
    },
    {
      "cell_type": "code",
      "source": [
        "sns.heatmap(cmp.corr(),annot=True,cmap='magma')\n"
      ],
      "metadata": {
        "colab": {
          "base_uri": "https://localhost:8080/",
          "height": 286
        },
        "id": "t-eQ8vEYMigB",
        "outputId": "4b781ca5-0654-4b60-e2df-616886648d3a"
      },
      "execution_count": 25,
      "outputs": [
        {
          "output_type": "execute_result",
          "data": {
            "text/plain": [
              "<matplotlib.axes._subplots.AxesSubplot at 0x7f427db64a10>"
            ]
          },
          "metadata": {},
          "execution_count": 25
        },
        {
          "output_type": "display_data",
          "data": {
            "text/plain": [
              "<Figure size 432x288 with 2 Axes>"
            ],
            "image/png": "[encoded data removed]"
          },
          "metadata": {
            "needs_background": "light"
          }
        }
      ]
    },
    {
      "cell_type": "markdown",
      "source": [
        "Bar graph to depicting the difference between the actual and predicted value."
      ],
      "metadata": {
        "id": "PuWhrI68Mon7"
      }
    },
    {
      "cell_type": "markdown",
      "source": [
        "# **7. Testing the model with our own data**"
      ],
      "metadata": {
        "id": "uLAg2U74Ms-a"
      }
    },
    {
      "cell_type": "code",
      "source": [
        "hrs = np.array(9.25)\n",
        "hrs = hrs.reshape(-1, 1)\n",
        "pred = regr.predict(hrs)\n",
        "print(\"No. of Hours Studied = {}\".format(hrs[0][0]))\n",
        "print(\"Predicted Score = {}\".format(pred[0]))"
      ],
      "metadata": {
        "colab": {
          "base_uri": "https://localhost:8080/"
        },
        "id": "95LsXoCgMoWB",
        "outputId": "14203474-2b94-4225-a5d0-2408cf91a3b5"
      },
      "execution_count": 26,
      "outputs": [
        {
          "output_type": "stream",
          "name": "stdout",
          "text": [
            "No. of Hours Studied = 9.25\n",
            "Predicted Score = 93.69173248737539\n"
          ]
        }
      ]
    },
    {
      "cell_type": "markdown",
      "source": [
        "As per the model's prediction:\n",
        "If the no. of hours studied is 9.25 hrs/day, the predicted score would be 93.69173248737539.\n",
        "\n"
      ],
      "metadata": {
        "id": "UaEjrtyqM4Qt"
      }
    },
    {
      "cell_type": "markdown",
      "source": [
        "# **8. Evaluating the model**"
      ],
      "metadata": {
        "id": "nD-z6T4aM_Gy"
      }
    },
    {
      "cell_type": "markdown",
      "source": [
        "The final step is to evaluate the performance of model. This step is particularly important to compare how well different models perform on a particular dataset. Here different errors have been calculated to compare the model performance and predict the accuracy."
      ],
      "metadata": {
        "id": "eH4xX34dNHCr"
      }
    },
    {
      "cell_type": "code",
      "source": [
        "from sklearn import metrics  \n",
        "# Mean Absolute Error\n",
        "print('Mean Absolute Error:',metrics.mean_absolute_error(y_test, pred_val)) \n",
        "# Mean Squared Error\n",
        "print('Mean Squared Error:', metrics.mean_squared_error(y_test, pred_val))\n",
        "# Root Mean Squared Error:\n",
        "print('Root Mean Squared Error:', np.sqrt(metrics.mean_squared_error(y_test, pred_val)))\n",
        "# R-Square\n",
        "print('R-Square:', metrics.r2_score(y_test, pred_val))"
      ],
      "metadata": {
        "colab": {
          "base_uri": "https://localhost:8080/"
        },
        "id": "Tg7l0iloMmpx",
        "outputId": "4425da47-092c-49a7-d182-adcf94c24254"
      },
      "execution_count": 29,
      "outputs": [
        {
          "output_type": "stream",
          "name": "stdout",
          "text": [
            "Mean Absolute Error: 4.183859899002982\n",
            "Mean Squared Error: 21.598769307217456\n",
            "Root Mean Squared Error: 4.647447612100373\n",
            "R-Square: 0.9454906892105354\n"
          ]
        }
      ]
    },
    {
      "cell_type": "markdown",
      "source": [
        "# **9. Conclusion** "
      ],
      "metadata": {
        "id": "ayOlfiWDNXrq"
      }
    },
    {
      "cell_type": "markdown",
      "source": [
        "Successfully carried out prediction using Supervised ML task and was able to evaluate the model's performance."
      ],
      "metadata": {
        "id": "AHNVgOLlNbya"
      }
    },
    {
      "cell_type": "markdown",
      "source": [
        "# ***THANK YOU***"
      ],
      "metadata": {
        "id": "-MXaHv48NeZW"
      }
    }
  ]
}